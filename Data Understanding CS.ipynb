{
 "cells": [
  {
   "cell_type": "code",
   "execution_count": null,
   "metadata": {},
   "outputs": [],
   "source": [
    "import pandas as pd\n",
    "import numpy as np\n",
    "import matplotlib.pyplot as plt\n",
    "import seaborn as sb"
   ]
  },
  {
   "cell_type": "code",
   "execution_count": null,
   "metadata": {},
   "outputs": [],
   "source": [
    "df = pd.read_csv('pupils.csv')"
   ]
  },
  {
   "cell_type": "code",
   "execution_count": null,
   "metadata": {},
   "outputs": [],
   "source": [
    "df.head()\n",
    "df.info()\n",
    "df.describe()"
   ]
  },
  {
   "cell_type": "code",
   "execution_count": null,
   "metadata": {},
   "outputs": [],
   "source": [
    "#df.corr()\n",
    "\n",
    "#df.query(\"Age > 10 and rooms < 5\")\n",
    "#df.Country.value_counts()\n",
    "#df.Country.unique()\n",
    "#df.Country.nunique()\n",
    "#df.sort_values(['Age','Weight'])\n",
    "#df.groupby('Country').mean()\n",
    "#df.groupby(['Age','type']).count()\n",
    "\n",
    "#df.agg('count')\n",
    "#df.agg(['count','max'])\n",
    "#df.agg({'Name':'count', 'income':'sum' , 'Age':'max'})\n",
    "\n"
   ]
  },
  {
   "cell_type": "code",
   "execution_count": null,
   "metadata": {
    "scrolled": true
   },
   "outputs": [],
   "source": [
    "#sb.pairplot(df,hue='gen')\n",
    "#sb.heatmap(df.corr())\n",
    "#sb.countplot(x='Age',data=df)\n",
    "#sb.countplot(x='rooms',data=df,hue='type')\n",
    "#sb.catplot(x='rooms',hue='gen',data=df,col='type',kind='count')\n",
    "#sb.distplot(df['Age'])\n",
    "#df['income'].hist()\n",
    "#sb.boxplot(x='rooms',y='Age',data=df)\n",
    "#plt.scatter(df.Height,df.Weight)"
   ]
  },
  {
   "cell_type": "code",
   "execution_count": null,
   "metadata": {},
   "outputs": [],
   "source": []
  }
 ],
 "metadata": {
  "kernelspec": {
   "display_name": "Python 3",
   "language": "python",
   "name": "python3"
  },
  "language_info": {
   "codemirror_mode": {
    "name": "ipython",
    "version": 3
   },
   "file_extension": ".py",
   "mimetype": "text/x-python",
   "name": "python",
   "nbconvert_exporter": "python",
   "pygments_lexer": "ipython3",
   "version": "3.7.3"
  }
 },
 "nbformat": 4,
 "nbformat_minor": 2
}
