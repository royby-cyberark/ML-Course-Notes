{
  "nbformat": 4,
  "nbformat_minor": 0,
  "metadata": {
    "colab": {
      "name": "ml_course_day2_sci_libs.ipynb",
      "provenance": [],
      "collapsed_sections": []
    },
    "kernelspec": {
      "name": "python3",
      "display_name": "Python 3"
    }
  },
  "cells": [
    {
      "cell_type": "code",
      "metadata": {
        "colab": {
          "base_uri": "https://localhost:8080/"
        },
        "id": "F2Mzqx7dOzb-",
        "outputId": "8565094f-3049-4132-bcb0-40aefcdad054"
      },
      "source": [
        "import numpy as np\n",
        "\n",
        "# Python lists\n",
        "ls = [[1, 2], [3, 4]]\n",
        "print(ls)\n",
        "ls[0][1]\n",
        "\n",
        "# Poor performance (relative to what?), also mixed types are allowed\n"
      ],
      "execution_count": 2,
      "outputs": [
        {
          "output_type": "stream",
          "text": [
            "[[1, 2], [3, 4]]\n"
          ],
          "name": "stdout"
        },
        {
          "output_type": "execute_result",
          "data": {
            "text/plain": [
              "2"
            ]
          },
          "metadata": {
            "tags": []
          },
          "execution_count": 2
        }
      ]
    },
    {
      "cell_type": "markdown",
      "metadata": {
        "id": "Bu1CuyNQQHyx"
      },
      "source": [
        "Numpy implements these things behind the scenes in c which give better performance"
      ]
    },
    {
      "cell_type": "code",
      "metadata": {
        "colab": {
          "base_uri": "https://localhost:8080/"
        },
        "id": "nFULRTisPgea",
        "outputId": "a8708c3b-467d-4342-c109-25596d636e59"
      },
      "source": [
        "arr = np.array([[1, 2], [3, 4]])\n",
        "print(arr)\n",
        "\n",
        "#type safety, this doesn't work:\n",
        "array[0][1] = 'hello'"
      ],
      "execution_count": 6,
      "outputs": [
        {
          "output_type": "stream",
          "text": [
            "[[1 2]\n",
            " [3 4]]\n",
            "[[5 2]\n",
            " [3 4]]\n"
          ],
          "name": "stdout"
        }
      ]
    },
    {
      "cell_type": "code",
      "metadata": {
        "colab": {
          "base_uri": "https://localhost:8080/"
        },
        "id": "KqW_IqfOQq_C",
        "outputId": "1f82d838-a2a3-4df0-fb99-8b8003a9e3b2"
      },
      "source": [
        "#By default its an int array:\n",
        "arr[0][0] = 5.6\n",
        "print(arr)"
      ],
      "execution_count": 7,
      "outputs": [
        {
          "output_type": "stream",
          "text": [
            "[[5 2]\n",
            " [3 4]]\n"
          ],
          "name": "stdout"
        }
      ]
    },
    {
      "cell_type": "markdown",
      "metadata": {
        "id": "v5exTIKHQ9RJ"
      },
      "source": [
        "Some performance comparison"
      ]
    },
    {
      "cell_type": "code",
      "metadata": {
        "id": "UYtc3bKjRjDI"
      },
      "source": [
        "ls = list(range(100000))\n",
        "arr = np.arange(100000)"
      ],
      "execution_count": null,
      "outputs": []
    },
    {
      "cell_type": "code",
      "metadata": {
        "colab": {
          "base_uri": "https://localhost:8080/"
        },
        "id": "Dh-gCEarQ9ad",
        "outputId": "58db035a-1ac6-4b7b-b058-48ce6155e0c8"
      },
      "source": [
        "%%timeit\n",
        "s = 0\n",
        "for i in range(100000):\n",
        "  s += i * i\n",
        "\n",
        "s"
      ],
      "execution_count": 11,
      "outputs": [
        {
          "output_type": "stream",
          "text": [
            "100 loops, best of 3: 8.72 ms per loop\n"
          ],
          "name": "stdout"
        }
      ]
    },
    {
      "cell_type": "code",
      "metadata": {
        "colab": {
          "base_uri": "https://localhost:8080/"
        },
        "id": "H7zlYgOjRRYL",
        "outputId": "2e02eebf-294f-47e5-b796-5581e4b999b3"
      },
      "source": [
        "# Super fast!\n",
        "%%timeit\n",
        "s2 = 0\n",
        "s2 += np.sum(arr*arr)\n",
        "s2"
      ],
      "execution_count": 13,
      "outputs": [
        {
          "output_type": "stream",
          "text": [
            "1000 loops, best of 3: 222 µs per loop\n"
          ],
          "name": "stdout"
        }
      ]
    },
    {
      "cell_type": "markdown",
      "metadata": {
        "id": "fyxkMaQaXRYf"
      },
      "source": [
        "# Pandas and Seaborn\n",
        " \n",
        "## Pandas \n",
        "for example - group by\n",
        "**Works in memory**, fast, but limited for large sizes\n",
        "Can read from many sources, like clipboard, csv, json, sql source (query with some connection), parquet and many more.\n",
        "\n",
        "Doesn't fit large data sets (in memory)\n",
        "\n",
        "## Seaborn\n",
        "view the data in a graphical way"
      ]
    },
    {
      "cell_type": "code",
      "metadata": {
        "colab": {
          "base_uri": "https://localhost:8080/",
          "height": 425
        },
        "id": "WBqitvqJWcd9",
        "outputId": "eb4d2749-4540-488d-8fa5-db18c336f468"
      },
      "source": [
        "import pandas as pd\n",
        "import seaborn as sb\n",
        "\n",
        "# Upload any csv to Files\n",
        "dataframe = pd.read_csv(\"./pandas/addresses.csv\") # Table\n",
        "# Info including size in memory\n",
        "dataframe.info()\n",
        "dataframe\n"
      ],
      "execution_count": 17,
      "outputs": [
        {
          "output_type": "stream",
          "text": [
            "<class 'pandas.core.frame.DataFrame'>\n",
            "RangeIndex: 5 entries, 0 to 4\n",
            "Data columns (total 6 columns):\n",
            " #   Column             Non-Null Count  Dtype \n",
            "---  ------             --------------  ----- \n",
            " 0   John               4 non-null      object\n",
            " 1   Doe                5 non-null      object\n",
            " 2   120 jefferson st.  4 non-null      object\n",
            " 3   Riverside          5 non-null      object\n",
            " 4    NJ                5 non-null      object\n",
            " 5    08075             5 non-null      int64 \n",
            "dtypes: int64(1), object(5)\n",
            "memory usage: 368.0+ bytes\n"
          ],
          "name": "stdout"
        },
        {
          "output_type": "execute_result",
          "data": {
            "text/html": [
              "<div>\n",
              "<style scoped>\n",
              "    .dataframe tbody tr th:only-of-type {\n",
              "        vertical-align: middle;\n",
              "    }\n",
              "\n",
              "    .dataframe tbody tr th {\n",
              "        vertical-align: top;\n",
              "    }\n",
              "\n",
              "    .dataframe thead th {\n",
              "        text-align: right;\n",
              "    }\n",
              "</style>\n",
              "<table border=\"1\" class=\"dataframe\">\n",
              "  <thead>\n",
              "    <tr style=\"text-align: right;\">\n",
              "      <th></th>\n",
              "      <th>John</th>\n",
              "      <th>Doe</th>\n",
              "      <th>120 jefferson st.</th>\n",
              "      <th>Riverside</th>\n",
              "      <th>NJ</th>\n",
              "      <th>08075</th>\n",
              "    </tr>\n",
              "  </thead>\n",
              "  <tbody>\n",
              "    <tr>\n",
              "      <th>0</th>\n",
              "      <td>Jack</td>\n",
              "      <td>McGinnis</td>\n",
              "      <td>220 hobo Av.</td>\n",
              "      <td>Phila</td>\n",
              "      <td>PA</td>\n",
              "      <td>9119</td>\n",
              "    </tr>\n",
              "    <tr>\n",
              "      <th>1</th>\n",
              "      <td>John \"Da Man\"</td>\n",
              "      <td>Repici</td>\n",
              "      <td>120 Jefferson St.</td>\n",
              "      <td>Riverside</td>\n",
              "      <td>NJ</td>\n",
              "      <td>8075</td>\n",
              "    </tr>\n",
              "    <tr>\n",
              "      <th>2</th>\n",
              "      <td>Stephen</td>\n",
              "      <td>Tyler</td>\n",
              "      <td>7452 Terrace \"At the Plaza\" road</td>\n",
              "      <td>SomeTown</td>\n",
              "      <td>SD</td>\n",
              "      <td>91234</td>\n",
              "    </tr>\n",
              "    <tr>\n",
              "      <th>3</th>\n",
              "      <td>NaN</td>\n",
              "      <td>Blankman</td>\n",
              "      <td>NaN</td>\n",
              "      <td>SomeTown</td>\n",
              "      <td>SD</td>\n",
              "      <td>298</td>\n",
              "    </tr>\n",
              "    <tr>\n",
              "      <th>4</th>\n",
              "      <td>Joan \"the bone\", Anne</td>\n",
              "      <td>Jet</td>\n",
              "      <td>9th, at Terrace plc</td>\n",
              "      <td>Desert City</td>\n",
              "      <td>CO</td>\n",
              "      <td>123</td>\n",
              "    </tr>\n",
              "  </tbody>\n",
              "</table>\n",
              "</div>"
            ],
            "text/plain": [
              "                    John       Doe  ...   NJ  08075\n",
              "0                   Jack  McGinnis  ...   PA   9119\n",
              "1          John \"Da Man\"    Repici  ...   NJ   8075\n",
              "2                Stephen     Tyler  ...   SD  91234\n",
              "3                    NaN  Blankman  ...   SD    298\n",
              "4  Joan \"the bone\", Anne       Jet  ...   CO    123\n",
              "\n",
              "[5 rows x 6 columns]"
            ]
          },
          "metadata": {
            "tags": []
          },
          "execution_count": 17
        }
      ]
    },
    {
      "cell_type": "code",
      "metadata": {
        "colab": {
          "base_uri": "https://localhost:8080/",
          "height": 111
        },
        "id": "DD8MwpexYjSI",
        "outputId": "80f7f5c4-976f-41d9-d1bd-5a4905e40fd8"
      },
      "source": [
        "dataframe = pd.read_csv('https://raw.githubusercontent.com/goodby/csv/master/example/user.csv')\n",
        "dataframe"
      ],
      "execution_count": 21,
      "outputs": [
        {
          "output_type": "execute_result",
          "data": {
            "text/html": [
              "<div>\n",
              "<style scoped>\n",
              "    .dataframe tbody tr th:only-of-type {\n",
              "        vertical-align: middle;\n",
              "    }\n",
              "\n",
              "    .dataframe tbody tr th {\n",
              "        vertical-align: top;\n",
              "    }\n",
              "\n",
              "    .dataframe thead th {\n",
              "        text-align: right;\n",
              "    }\n",
              "</style>\n",
              "<table border=\"1\" class=\"dataframe\">\n",
              "  <thead>\n",
              "    <tr style=\"text-align: right;\">\n",
              "      <th></th>\n",
              "      <th>1</th>\n",
              "      <th>alice</th>\n",
              "      <th>alice@example.com</th>\n",
              "    </tr>\n",
              "  </thead>\n",
              "  <tbody>\n",
              "    <tr>\n",
              "      <th>0</th>\n",
              "      <td>2</td>\n",
              "      <td>bob</td>\n",
              "      <td>bob@example.com</td>\n",
              "    </tr>\n",
              "    <tr>\n",
              "      <th>1</th>\n",
              "      <td>3</td>\n",
              "      <td>carol</td>\n",
              "      <td>carol@eample.com</td>\n",
              "    </tr>\n",
              "  </tbody>\n",
              "</table>\n",
              "</div>"
            ],
            "text/plain": [
              "   1  alice alice@example.com\n",
              "0  2    bob   bob@example.com\n",
              "1  3  carol  carol@eample.com"
            ]
          },
          "metadata": {
            "tags": []
          },
          "execution_count": 21
        }
      ]
    },
    {
      "cell_type": "code",
      "metadata": {
        "colab": {
          "base_uri": "https://localhost:8080/"
        },
        "id": "zORWw2qVdSts",
        "outputId": "7c9d56c8-292a-4471-cc07-4f0d3b932dd5"
      },
      "source": [
        "dataframe = pd.read_csv(\"./pandas/addresses.csv\") # Table\n",
        "dataframe.head() # first few records\n",
        "dataframe.info() # Field types, number of record of each field, null count (missing data)"
      ],
      "execution_count": 22,
      "outputs": [
        {
          "output_type": "stream",
          "text": [
            "<class 'pandas.core.frame.DataFrame'>\n",
            "RangeIndex: 5 entries, 0 to 4\n",
            "Data columns (total 6 columns):\n",
            " #   Column             Non-Null Count  Dtype \n",
            "---  ------             --------------  ----- \n",
            " 0   John               4 non-null      object\n",
            " 1   Doe                5 non-null      object\n",
            " 2   120 jefferson st.  4 non-null      object\n",
            " 3   Riverside          5 non-null      object\n",
            " 4    NJ                5 non-null      object\n",
            " 5    08075             5 non-null      int64 \n",
            "dtypes: int64(1), object(5)\n",
            "memory usage: 368.0+ bytes\n"
          ],
          "name": "stdout"
        }
      ]
    },
    {
      "cell_type": "markdown",
      "metadata": {
        "id": "cKCfQCSzeDQm"
      },
      "source": [
        "Using info, we can learn how many records are missing in the dataset\n",
        "You get the record count, column count, number of non-null count.\n",
        "data typs (object is string)\n",
        "\n",
        "Good for data preperation\n"
      ]
    },
    {
      "cell_type": "code",
      "metadata": {
        "colab": {
          "base_uri": "https://localhost:8080/",
          "height": 297
        },
        "id": "BcZsK-tHeaPe",
        "outputId": "80f7ccb9-e878-4ce0-85e0-a9f1b296ffad"
      },
      "source": [
        "# Get stats info for the table with one call, avg, min, max, std div, etc.\n",
        "dataframe.describe()"
      ],
      "execution_count": 23,
      "outputs": [
        {
          "output_type": "execute_result",
          "data": {
            "text/html": [
              "<div>\n",
              "<style scoped>\n",
              "    .dataframe tbody tr th:only-of-type {\n",
              "        vertical-align: middle;\n",
              "    }\n",
              "\n",
              "    .dataframe tbody tr th {\n",
              "        vertical-align: top;\n",
              "    }\n",
              "\n",
              "    .dataframe thead th {\n",
              "        text-align: right;\n",
              "    }\n",
              "</style>\n",
              "<table border=\"1\" class=\"dataframe\">\n",
              "  <thead>\n",
              "    <tr style=\"text-align: right;\">\n",
              "      <th></th>\n",
              "      <th>08075</th>\n",
              "    </tr>\n",
              "  </thead>\n",
              "  <tbody>\n",
              "    <tr>\n",
              "      <th>count</th>\n",
              "      <td>5.000000</td>\n",
              "    </tr>\n",
              "    <tr>\n",
              "      <th>mean</th>\n",
              "      <td>21769.800000</td>\n",
              "    </tr>\n",
              "    <tr>\n",
              "      <th>std</th>\n",
              "      <td>39059.209909</td>\n",
              "    </tr>\n",
              "    <tr>\n",
              "      <th>min</th>\n",
              "      <td>123.000000</td>\n",
              "    </tr>\n",
              "    <tr>\n",
              "      <th>25%</th>\n",
              "      <td>298.000000</td>\n",
              "    </tr>\n",
              "    <tr>\n",
              "      <th>50%</th>\n",
              "      <td>8075.000000</td>\n",
              "    </tr>\n",
              "    <tr>\n",
              "      <th>75%</th>\n",
              "      <td>9119.000000</td>\n",
              "    </tr>\n",
              "    <tr>\n",
              "      <th>max</th>\n",
              "      <td>91234.000000</td>\n",
              "    </tr>\n",
              "  </tbody>\n",
              "</table>\n",
              "</div>"
            ],
            "text/plain": [
              "              08075\n",
              "count      5.000000\n",
              "mean   21769.800000\n",
              "std    39059.209909\n",
              "min      123.000000\n",
              "25%      298.000000\n",
              "50%     8075.000000\n",
              "75%     9119.000000\n",
              "max    91234.000000"
            ]
          },
          "metadata": {
            "tags": []
          },
          "execution_count": 23
        }
      ]
    },
    {
      "cell_type": "markdown",
      "metadata": {
        "id": "RJdk9XxlfSyq"
      },
      "source": [
        "When completing missing data, it might be useful to fill missing data with avg. but only if the std div is small."
      ]
    },
    {
      "cell_type": "code",
      "metadata": {
        "colab": {
          "base_uri": "https://localhost:8080/"
        },
        "id": "l0Vdyn6Pe1Rp",
        "outputId": "21aacd2f-cfaa-4bc7-b0c4-70e97a4cc5e0"
      },
      "source": [
        "arr1 = np.array([100, 100, 0, 0])\n",
        "arr2 = np.array([48, 48, 52, 52])\n",
        "print(arr1.mean())\n",
        "print(arr1.std()) \n",
        "\n",
        "print(arr2.mean())\n",
        "print(arr2.std())\n"
      ],
      "execution_count": 26,
      "outputs": [
        {
          "output_type": "stream",
          "text": [
            "50.0\n",
            "50.0\n",
            "50.0\n",
            "2.0\n"
          ],
          "name": "stdout"
        }
      ]
    },
    {
      "cell_type": "markdown",
      "metadata": {
        "id": "IjAhJJD9g80y"
      },
      "source": [
        "It's important to find values that doesn't make sense, for example with max, min etc. and to eliminate them if they are errors, or if they simply doesn't make sense with the general data, so called \"outliers\".\n",
        "for example in a list of apartment prices, we have one or two multi million apts, which doesn't coinside with the rest of the data.\n",
        "\n",
        "You can then query the data for these outliers:"
      ]
    },
    {
      "cell_type": "code",
      "metadata": {
        "id": "z0COlYKehdHb"
      },
      "source": [
        "dataframe.query(\"income > 40000\") # Example from different data"
      ],
      "execution_count": null,
      "outputs": []
    },
    {
      "cell_type": "code",
      "metadata": {
        "id": "Dr-w7Qbjh3uS"
      },
      "source": [
        "# And also, you can describe by column and property (e.g. max)\n",
        "dataframe.describe().Age.max() # Example from different data\n",
        "# Some examples\n",
        "dataframe.Country.unique()\n",
        "# group my country\n",
        "dataframe.groupby(['Country']).mean()\n",
        "# group my country AND gender\n",
        "dataframe.groupby(['Country', 'gen']).mean()\n"
      ],
      "execution_count": null,
      "outputs": []
    },
    {
      "cell_type": "markdown",
      "metadata": {
        "id": "H50hipJsil8W"
      },
      "source": [
        "Pandas cheat sheet:\n",
        "https://pandas.pydata.org/Pandas_Cheat_Sheet.pdf"
      ]
    },
    {
      "cell_type": "code",
      "metadata": {
        "id": "m0qQof9jiAcY"
      },
      "source": [
        ""
      ],
      "execution_count": null,
      "outputs": []
    }
  ]
}